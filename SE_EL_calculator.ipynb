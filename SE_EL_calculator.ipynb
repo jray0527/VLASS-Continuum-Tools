{
 "cells": [
  {
   "cell_type": "code",
   "execution_count": 2,
   "id": "8ff05829-5c7d-4898-8639-390163da1457",
   "metadata": {},
   "outputs": [
    {
     "name": "stderr",
     "output_type": "stream",
     "text": [
      "WARNING: NonRotationTransformationWarning: transforming other coordinates from <ICRS Frame> to <GCRS Frame (obstime=['2017-11-18T21:42:31.275' '2017-11-18T21:42:31.275'\n",
      " '2017-11-18T21:42:31.275' ... '2019-05-16T12:01:06.375'\n",
      " '2019-05-16T12:01:06.375' '2019-05-16T12:01:06.375'], obsgeoloc=(0., 0., 0.) m, obsgeovel=(0., 0., 0.) m / s)>. Angular separation can depend on the direction of the transformation. [astropy.coordinates.baseframe]\n"
     ]
    },
    {
     "name": "stdout",
     "output_type": "stream",
     "text": [
      "elong1.shape = (1482075,), lat1.shape = (1482075,)\n"
     ]
    },
    {
     "name": "stderr",
     "output_type": "stream",
     "text": [
      "WARNING: NonRotationTransformationWarning: transforming other coordinates from <ICRS Frame> to <GCRS Frame (obstime=['2020-09-06T10:51:59.400' '2020-09-06T10:51:59.400'\n",
      " '2020-09-06T10:51:59.400' ... '2021-11-09T06:53:52.800'\n",
      " '2021-11-09T06:53:52.800' '2021-11-09T06:53:52.800'], obsgeoloc=(0., 0., 0.) m, obsgeovel=(0., 0., 0.) m / s)>. Angular separation can depend on the direction of the transformation. [astropy.coordinates.baseframe]\n"
     ]
    },
    {
     "name": "stdout",
     "output_type": "stream",
     "text": [
      "elong2.shape = (1482075,), lat2.shape = (1482075,)\n"
     ]
    },
    {
     "name": "stderr",
     "output_type": "stream",
     "text": [
      "WARNING: NonRotationTransformationWarning: transforming other coordinates from <ICRS Frame> to <GCRS Frame (obstime=['2023-02-10T19:15:26.100' '2023-02-10T19:15:26.100'\n",
      " '2023-02-10T19:15:26.100' ... '2024-05-24T17:00:14.850'\n",
      " '2024-05-24T17:00:14.850' '2024-05-24T17:00:14.850'], obsgeoloc=(0., 0., 0.) m, obsgeovel=(0., 0., 0.) m / s)>. Angular separation can depend on the direction of the transformation. [astropy.coordinates.baseframe]\n"
     ]
    },
    {
     "name": "stdout",
     "output_type": "stream",
     "text": [
      "elong3.shape = (1482075,), lat3.shape = (1482075,)\n"
     ]
    }
   ],
   "source": [
    "import pandas as pd\n",
    "import numpy as np\n",
    "import astropy.units as u\n",
    "from astropy.time import Time\n",
    "from astropy.coordinates import SkyCoord, get_sun, GeocentricMeanEcliptic\n",
    "\n",
    "file_path = \"C://Users/jray/Desktop/Ray/Catalogs/vlass_catalog.csv\"\n",
    "df = pd.read_csv(file_path, low_memory=False)\n",
    "\n",
    "for i in (1, 2, 3):\n",
    "    time_col = f\"Epoch_{i}_date-obs\"\n",
    "    ra_col   = f\"RA_{i}\"\n",
    "    dec_col  = f\"DEC_{i}\"\n",
    "\n",
    "    time_list = df[time_col].to_list()\n",
    "    ra_arr    = np.array(df[ra_col].to_list(), dtype=float)\n",
    "    dec_arr   = np.array(df[dec_col].to_list(), dtype=float)\n",
    "\n",
    "    t       = Time(time_list)\n",
    "    targets = SkyCoord(ra=ra_arr * u.deg, dec=dec_arr * u.deg, frame=\"icrs\")\n",
    "    sunpos  = get_sun(t)\n",
    "\n",
    "    elong = sunpos.separation(targets).deg\n",
    "    ecl   = targets.transform_to(GeocentricMeanEcliptic(equinox=t))\n",
    "    lat   = ecl.lat.deg\n",
    "\n",
    "    if i == 1:\n",
    "        elong1, lat1 = elong, lat\n",
    "    elif i == 2:\n",
    "        elong2, lat2 = elong, lat\n",
    "    else:\n",
    "        elong3, lat3 = elong, lat\n",
    "\n",
    "    print(f\"elong{i}.shape = {elong.shape}, lat{i}.shape = {lat.shape}\")"
   ]
  },
  {
   "cell_type": "code",
   "execution_count": 3,
   "id": "b7c27ef9-9a9d-40d4-b77b-7f3f175e40f7",
   "metadata": {},
   "outputs": [
    {
     "name": "stderr",
     "output_type": "stream",
     "text": [
      "C:\\Users\\jray\\AppData\\Local\\Temp\\ipykernel_29164\\4212055077.py:7: DtypeWarning: Columns (68,69) have mixed types. Specify dtype option on import or set low_memory=False.\n",
      "  df = pd.read_csv('C://Users/jray/Desktop/Ray/Catalogs/vlass_catalog.csv')\n"
     ]
    },
    {
     "name": "stdout",
     "output_type": "stream",
     "text": [
      "Index(['Subtile', 'Epoch_1_date-obs', 'Epoch_2_date-obs', 'Epoch_3_date-obs',\n",
      "       'Component_name_1_1', 'Component_name_1_2', 'Component_id_1',\n",
      "       'Isl_id_1', 'RA_1', 'DEC_1',\n",
      "       ...\n",
      "       'Resid_Isl_mean_3', 'S_Code_3', 'Flag', 'SNR', 'SE_1', 'EL_1', 'SE_2',\n",
      "       'EL_2', 'SE_3', 'EL_3'],\n",
      "      dtype='object', length=179)\n"
     ]
    }
   ],
   "source": [
    "for i in (1, 2, 3):\n",
    "    df = pd.read_csv(\"C://Users/jray/Desktop/Ray/Catalogs/vlass_catalog.csv\", low_memory=False)\n",
    "    df[f\"SE_{i}\"] = eval(f\"elong{i}\")\n",
    "    df[f\"EL_{i}\"] = eval(f\"lat{i}\")\n",
    "    df.to_csv(\"C://Users/jray/Desktop/Ray/Catalogs/vlass_catalog.csv\", index=False)\n",
    "\n",
    "df = pd.read_csv('C://Users/jray/Desktop/Ray/Catalogs/vlass_catalog.csv')\n",
    "column_names = df.columns\n",
    "print(column_names)"
   ]
  },
  {
   "cell_type": "code",
   "execution_count": null,
   "id": "5e432232-ec5f-46c0-8ebc-4ab26fb42e57",
   "metadata": {},
   "outputs": [],
   "source": []
  }
 ],
 "metadata": {
  "kernelspec": {
   "display_name": "Python 3 (ipykernel)",
   "language": "python",
   "name": "python3"
  },
  "language_info": {
   "codemirror_mode": {
    "name": "ipython",
    "version": 3
   },
   "file_extension": ".py",
   "mimetype": "text/x-python",
   "name": "python",
   "nbconvert_exporter": "python",
   "pygments_lexer": "ipython3",
   "version": "3.12.7"
  }
 },
 "nbformat": 4,
 "nbformat_minor": 5
}
