{
 "cells": [
  {
   "cell_type": "code",
   "execution_count": null,
   "id": "37668a38-7d40-47f5-a94f-4fdf7ad7a094",
   "metadata": {
    "editable": true,
    "slideshow": {
     "slide_type": ""
    },
    "tags": []
   },
   "outputs": [],
   "source": [
    "\"\"\"\n",
    "solar elongation angle, epsilon ***\n",
    "    date, time\n",
    "ecliptic latitude, beta\n",
    "    ra, dec, time, date\n",
    "fractional variability, Fs\n",
    "    V - variance\n",
    "    sigma_err - rms error\n",
    "    S - flux density\n",
    "        Jy/beam -> beam calculaiton\n",
    "variability index, Vs\n",
    "    S - flux density\n",
    "    sigma - S error\n",
    "modulation index, M\n",
    "    sigma_S - stddev of S\n",
    "    S_bar - mean S\n",
    "epoch\n",
    "solar activity\n",
    "    Y/N, 0/1\n",
    "rms noise\n",
    "    \n",
    "phase error ratios?\n",
    "\"\"\""
   ]
  },
  {
   "cell_type": "code",
   "execution_count": null,
   "id": "7f07078a-1ed1-4b6e-bd16-ab366cd1ac32",
   "metadata": {
    "editable": true,
    "slideshow": {
     "slide_type": ""
    },
    "tags": []
   },
   "outputs": [],
   "source": [
    "\"\"\"\n",
    "list of var's:\n",
    "    x3*1.5mil:\n",
    "        peak flux\n",
    "        err peak flux\n",
    "        total flux\n",
    "        err total flux\n",
    "        island total flux\n",
    "        err island total flux\n",
    "        SE\n",
    "        EL\n",
    "        isl rms\n",
    "\n",
    "    x3*3:\n",
    "        V^2\n",
    "        RMSE\n",
    "        S_bar\n",
    "        F_s\n",
    "        delta_F_s\n",
    "        V_s\n",
    "        sigma_s\n",
    "        M\n",
    "        rms_noise\n",
    "        solar activity\n",
    "\n",
    "correlation list:\n",
    "    flux (all 3 + errors)\n",
    "    SE\n",
    "    EL\n",
    "    4 statistical vars\n",
    "    ra/dec\n",
    "    solar activity\n",
    "    rms noise\n",
    "    epoch\n",
    "\"\"\""
   ]
  },
  {
   "cell_type": "code",
   "execution_count": null,
   "id": "9bafbf03-bdff-4343-a393-532d08749155",
   "metadata": {},
   "outputs": [],
   "source": [
    "\"\"\"\n",
    "script:\n",
    "    append:\n",
    "        SE 1/2/3 [get_sun(t)]\n",
    "        EL 1/2/3 [GeocentricMeanEcliptic()]\n",
    "        solar activity (t) 1/2/3\n",
    "    get:\n",
    "        F_s (peak, tot, isl)\n",
    "        deltaF_s (peak, tot, isl)\n",
    "        V_s (peak, tot, isl)\n",
    "        M (peak, tot, isl)\n",
    "    correl. matrix:\n",
    "        3 fluxes\n",
    "        3 errs\n",
    "        SE\n",
    "        EL\n",
    "        solar activity\n",
    "        rms noise/phase errors*\n",
    "\"\"\""
   ]
  },
  {
   "cell_type": "code",
   "execution_count": null,
   "id": "f061c511-c5dd-4a2a-8551-edaef1b8f8ed",
   "metadata": {},
   "outputs": [],
   "source": [
    "from astropy import units as u\n",
    "from astropy.coordinates import SkyCoord, GeocentricMeanEcliptic\n",
    "\n",
    "# Example equatorial coordinates (Right Ascension and Declination)\n",
    "ra = 10.625 * u.degree\n",
    "dec = 41.2 * u.degree\n",
    "\n",
    "# Create a SkyCoord object with equatorial coordinates\n",
    "coord_eq = SkyCoord(ra=ra, dec=dec, frame='icrs')\n",
    "\n",
    "# Transform to geocentric mean ecliptic coordinates\n",
    "coord_ecl = coord_eq.transform_to(GeocentricMeanEcliptic())\n",
    "\n",
    "coord_ecl.lat.degree"
   ]
  },
  {
   "cell_type": "code",
   "execution_count": null,
   "id": "54209fa6-eefd-4051-8c04-96f91ed2ab8a",
   "metadata": {},
   "outputs": [],
   "source": [
    "from astropy.time import Time\n",
    "from astropy.coordinates import get_sun\n",
    "from astropy.coordinates import EarthLocation\n",
    "\n",
    "time = Time('2025-06-03 12:00:00')\n",
    "\n",
    "get_sun(time)"
   ]
  },
  {
   "cell_type": "code",
   "execution_count": null,
   "id": "2c5c52c3-1ed5-4f99-926f-61e0652cff82",
   "metadata": {
    "editable": true,
    "slideshow": {
     "slide_type": ""
    },
    "tags": []
   },
   "outputs": [],
   "source": [
    "import matplotlib.pyplot as plt\n",
    "import sunpy.timeseries as ts\n",
    "from sunpy.net import Fido\n",
    "from sunpy.net import attrs as a\n",
    "from sunpy.time import TimeRange\n",
    "\n",
    "# Define a time range\n",
    "tr = TimeRange(\"1900-01-01\", \"2025-01-01\")\n",
    "\n",
    "# Search for the sunspot number data\n",
    "results = Fido.search(a.Time(tr), a.Instrument(\"SIS\"), a.Source(\"SWPC\"))\n",
    "\n",
    "# Download the data\n",
    "files = Fido.fetch(results)\n",
    "\n",
    "# Load the data into a TimeSeries object\n",
    "ts_ = ts.TimeSeries(files)\n",
    "\n",
    "# Plot the sunspot number\n",
    "ts_.plot()\n",
    "plt.show()\n"
   ]
  },
  {
   "cell_type": "code",
   "execution_count": null,
   "id": "fd76a69a-f1b3-4fc6-92f4-f8906e9459eb",
   "metadata": {
    "editable": true,
    "scrolled": true,
    "slideshow": {
     "slide_type": ""
    },
    "tags": []
   },
   "outputs": [],
   "source": [
    "import pandas as pd\n",
    "from astropy.coordinates import SkyCoord, get_sun, GeocentricMeanEcliptic\n",
    "from astropy.time import Time\n",
    "import astropy.units as u\n",
    "\n",
    "csv_path = \"combined_data2.csv\"\n",
    "df = pd.read_csv(csv_path)\n",
    "\n",
    "ra_cols = []\n",
    "dec_cols = []\n",
    "date_cols = []\n",
    "\n",
    "for i in range(1, 4):\n",
    "    ra_name = f\"RA_{i}\"\n",
    "    dec_name = f\"DEC_{i}\"\n",
    "    date_name = f\"Epoch_{i}_date-obs\"\n",
    "    \n",
    "    if ra_name not in df.columns:\n",
    "        raise KeyError(f\"Column '{ra_name}' not found in CSV\")\n",
    "    if dec_name not in df.columns:\n",
    "        raise KeyError(f\"Column '{dec_name}' not found in CSV\")\n",
    "    if date_name not in df.columns:\n",
    "        raise KeyError(f\"Column '{date_name}' not found in CSV\")\n",
    "        \n",
    "    ra_cols.append(ra_name)\n",
    "    dec_cols.append(dec_name)\n",
    "    date_cols.append(date_name)\n",
    "    \n",
    "for i in range(1, 4):\n",
    "    df[f\"Epoch_{i}_solar_elongation\"] = pd.NA\n",
    "    df[f\"Epoch_{i}_ecliptic_latitude\"] = pd.NA\n",
    "    \n",
    "def compute_angles(ra_deg, dec_deg, timestamp):\n",
    "    if pd.isna(ra_deg) or pd.isna(dec_deg) or not isinstance(timestamp, str):\n",
    "        return None, None\n",
    "        \n",
    "    if \".\" in timestamp:\n",
    "        timestamp = timestamp.split(\".\", 1)[0]\n",
    "        \n",
    "    try:\n",
    "        t = Time(timestamp)\n",
    "        target = SkyCoord(ra=ra_deg * u.deg, dec=dec_deg * u.deg, frame=\"icrs\")\n",
    "        sun = get_sun(t)\n",
    "        elong = sun.separation(target).deg\n",
    "        ecl = target.transform_to(GeocentricMeanEcliptic(equinox=t))\n",
    "        lat = ecl.lat.deg\n",
    "        return round(elong, 2), round(lat, 2)\n",
    "        \n",
    "    except Exception as e:\n",
    "        print(f\"[WARNING] RA={ra_deg}, DEC={dec_deg}, time={timestamp}: {e}\")\n",
    "        return None, None\n",
    "        \n",
    "for idx, row in df.iterrows():\n",
    "    for i in range(3):\n",
    "        ra_val = row[ra_cols[i]]\n",
    "        dec_val = row[dec_cols[i]]\n",
    "        time_str = row[date_cols[i]]\n",
    "        elong, lat = compute_angles(ra_val, dec_val, time_str)\n",
    "\n",
    "        df.at[idx, f\"Epoch_{i+1}_solar_elongation\"] = elong\n",
    "        df.at[idx, f\"Epoch_{i+1}_ecliptic_latitude\"] = lat\n",
    "\n",
    "df.to_csv(csv_path, index=False)\n",
    "print(\"updated\")"
   ]
  },
  {
   "cell_type": "code",
   "execution_count": null,
   "id": "850a6d6c-3457-4406-b4c3-067df59ef68e",
   "metadata": {
    "editable": true,
    "slideshow": {
     "slide_type": ""
    },
    "tags": []
   },
   "outputs": [],
   "source": []
  }
 ],
 "metadata": {
  "kernelspec": {
   "display_name": "Python 3 (ipykernel)",
   "language": "python",
   "name": "python3"
  },
  "language_info": {
   "codemirror_mode": {
    "name": "ipython",
    "version": 3
   },
   "file_extension": ".py",
   "mimetype": "text/x-python",
   "name": "python",
   "nbconvert_exporter": "python",
   "pygments_lexer": "ipython3",
   "version": "3.12.7"
  }
 },
 "nbformat": 4,
 "nbformat_minor": 5
}
