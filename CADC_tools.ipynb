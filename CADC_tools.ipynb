{
 "cells": [
  {
   "cell_type": "code",
   "execution_count": null,
   "id": "5ae6de17-70d7-47b4-9950-e595640c3be3",
   "metadata": {
    "editable": true,
    "slideshow": {
     "slide_type": ""
    },
    "tags": []
   },
   "outputs": [],
   "source": [
    "import numpy as np\n",
    "from astropy.table import Table\n",
    "from astropy.coordinates import SkyCoord\n",
    "from astropy import units as u\n",
    "from astroquery.cadc import Cadc\n",
    "import warnings\n",
    "\n",
    "###mute bloody astropy warnings -- may want to switch this off later?\n",
    "warnings.filterwarnings('ignore')\n",
    "\n",
    "\n",
    "########################################\n",
    "#time of code check - not important for code to run\n",
    "import time\n",
    "start_time = time.time()\n",
    "########################################\n",
    "\n",
    "####code for getting CADC urls of VLASS subtiles based on meta -- will return all epochs for position\n",
    "\n",
    "####set up list of central image positions to find data for (n~35k)\n",
    "subtile_file = '/Users/yjangordon/Documents/science/survey_data/VLASS/catalogues/CIRADA_VLASS1QL_table3_subtile_info_v1.fits' ###change as appropriate\n",
    "\n",
    "qlinfo = Table.read(subtile_file, format='fits')\n",
    "\n",
    "qlposcat = SkyCoord(ra=qlinfo['OBSRA'], dec=qlinfo['OBSDEC'])\n",
    "\n",
    "####set up cadc query\n",
    "cadc = Cadc()\n",
    "\n",
    "###can also use any input table with publisherID column in with cadc.get_data_urls -- this should be faster!\n",
    "def write_data_urls_to_file(data):\n",
    "    ##data must include publiserID column\n",
    "    urlist = cadc.get_data_urls(data)\n",
    "    tab = Table()\n",
    "    Table['cadc_url'] = urllist\n",
    "    Table.write('vlass_ql_cadc_urllist.fits', format='fits')\n",
    "    return\n",
    "\n",
    "\n",
    "def getcadc_imurl(coord, collection='VLASS'):\n",
    "    result = cadc.query_region(coord, collection=collection)\n",
    "    urls = cadc.get_data_urls(result)\n",
    "    if type(urls) != list:\n",
    "        urls = list(urls)\n",
    "    return urls\n",
    "\n",
    "\n",
    "test = qlposcat[:10]\n",
    "\n",
    "\n",
    "def getallimurls(cat, collection='VLASS'):\n",
    "    t0 = time.time()\n",
    "    n = len(cat)\n",
    "    nstep = np.arange(0, len(cat), 1)\n",
    "    urllist = []\n",
    "    for i in range(len(cat)):\n",
    "        if i in nstep:\n",
    "            telapsed = np.round(time.time()-t0, 2)\n",
    "            print(i, '/', n, '  time='+str(telapsed)+' s')\n",
    "        urllist = urllist +  getcadc_imurl(cat[i])\n",
    "    return urllist\n",
    "\n",
    "#########################################################################\n",
    "print('END: ', np.round(time.time()-start_time, 2), 's')"
   ]
  }
 ],
 "metadata": {
  "kernelspec": {
   "display_name": "Python 3 (ipykernel)",
   "language": "python",
   "name": "python3"
  },
  "language_info": {
   "codemirror_mode": {
    "name": "ipython",
    "version": 3
   },
   "file_extension": ".py",
   "mimetype": "text/x-python",
   "name": "python",
   "nbconvert_exporter": "python",
   "pygments_lexer": "ipython3",
   "version": "3.12.7"
  }
 },
 "nbformat": 4,
 "nbformat_minor": 5
}
