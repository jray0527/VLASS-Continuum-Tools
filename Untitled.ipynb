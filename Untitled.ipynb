{
 "cells": [
  {
   "cell_type": "code",
   "execution_count": 7,
   "id": "a5c29a5b-b5b1-4d37-ba7e-9ced61cad52c",
   "metadata": {
    "editable": true,
    "slideshow": {
     "slide_type": ""
    },
    "tags": []
   },
   "outputs": [
    {
     "data": {
      "text/plain": [
       "<SkyCoord (GCRS: obstime=2025-06-03 10:40:00.000, obsgeoloc=(2982099.64877241, -4375348.99820348, 3547674.42742718) m, obsgeovel=(319.06357245, 216.81772258, -0.79662384) m / s): (ra, dec, distance) in (deg, deg, AU)\n",
       "    (71.3134031, 22.32260487, 1.0143275)>"
      ]
     },
     "execution_count": 7,
     "metadata": {},
     "output_type": "execute_result"
    }
   ],
   "source": [
    "from astropy.time import Time\n",
    "from astropy.coordinates import solar_system_ephemeris, EarthLocation\n",
    "from astropy.coordinates import get_body_barycentric, get_body\n",
    "t = Time(\"2025-06-03 10:40\")\n",
    "loc = EarthLocation.of_site('VLA')\n",
    "with solar_system_ephemeris.set('builtin'):\n",
    "    jup = get_body('sun', t, loc)\n",
    "jup\n"
   ]
  },
  {
   "cell_type": "code",
   "execution_count": 16,
   "id": "507a8295-4cfc-4e7c-86c9-a13b1a1472fc",
   "metadata": {
    "editable": true,
    "slideshow": {
     "slide_type": ""
    },
    "tags": []
   },
   "outputs": [
    {
     "data": {
      "text/plain": [
       "<SkyCoord (GCRS: obstime=2025-06-03 12:00:00.000, obsgeoloc=(0., 0., 0.) m, obsgeovel=(0., 0., 0.) m / s): (ra, dec, distance) in (deg, deg, AU)\n",
       "    (71.36878128, 22.33109326, 1.01432443)>"
      ]
     },
     "execution_count": 16,
     "metadata": {},
     "output_type": "execute_result"
    }
   ],
   "source": [
    "from astropy.time import Time\n",
    "from astropy.coordinates import get_sun\n",
    "from astropy.coordinates import EarthLocation\n",
    "\n",
    "time = Time('2025-06-03 12:00:00')\n",
    "\n",
    "get_sun(time)"
   ]
  },
  {
   "cell_type": "code",
   "execution_count": null,
   "id": "40900fc6-917e-4c76-b76b-93756050a42a",
   "metadata": {
    "editable": true,
    "slideshow": {
     "slide_type": ""
    },
    "tags": []
   },
   "outputs": [],
   "source": []
  }
 ],
 "metadata": {
  "kernelspec": {
   "display_name": "Python 3 (ipykernel)",
   "language": "python",
   "name": "python3"
  },
  "language_info": {
   "codemirror_mode": {
    "name": "ipython",
    "version": 3
   },
   "file_extension": ".py",
   "mimetype": "text/x-python",
   "name": "python",
   "nbconvert_exporter": "python",
   "pygments_lexer": "ipython3",
   "version": "3.12.7"
  }
 },
 "nbformat": 4,
 "nbformat_minor": 5
}
